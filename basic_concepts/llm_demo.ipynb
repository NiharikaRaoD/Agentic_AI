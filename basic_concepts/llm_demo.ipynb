{
 "cells": [
  {
   "cell_type": "code",
   "execution_count": 1,
   "id": "6f5bd98c",
   "metadata": {},
   "outputs": [
    {
     "name": "stdout",
     "output_type": "stream",
     "text": [
      "Hello from Agentic AI\n"
     ]
    }
   ],
   "source": [
    "print(\"Hello from Agentic AI\")"
   ]
  },
  {
   "cell_type": "code",
   "execution_count": 2,
   "id": "113d90f9",
   "metadata": {},
   "outputs": [],
   "source": [
    "# Interact with a model - what is the model and who is providing ?\n",
    "\n",
    "model_name = \"gemini-2.0-flash-lite-001\"\n",
    "model_provider = \"google_vertexai\""
   ]
  },
  {
   "cell_type": "code",
   "execution_count": 3,
   "id": "e3d5dae7",
   "metadata": {},
   "outputs": [],
   "source": [
    "from langchain.chat_models import init_chat_model\n",
    "\n",
    "model = init_chat_model(model=model_name, model_provider=model_provider)"
   ]
  },
  {
   "cell_type": "code",
   "execution_count": 4,
   "id": "f9f4c1e3",
   "metadata": {},
   "outputs": [],
   "source": [
    "response = model.invoke(\"What is the Capital of France?\")"
   ]
  },
  {
   "cell_type": "code",
   "execution_count": 5,
   "id": "a6feae30",
   "metadata": {},
   "outputs": [
    {
     "data": {
      "text/plain": [
       "'The capital of France is **Paris**.\\n'"
      ]
     },
     "execution_count": 5,
     "metadata": {},
     "output_type": "execute_result"
    }
   ],
   "source": [
    "response.content"
   ]
  },
  {
   "cell_type": "code",
   "execution_count": 6,
   "id": "8e0db628",
   "metadata": {},
   "outputs": [
    {
     "name": "stdout",
     "output_type": "stream",
     "text": [
      "==================================\u001b[1m Ai Message \u001b[0m==================================\n",
      "\n",
      "The capital of France is **Paris**.\n"
     ]
    }
   ],
   "source": [
    "response.pretty_print()"
   ]
  }
 ],
 "metadata": {
  "kernelspec": {
   "display_name": "basic-concepts",
   "language": "python",
   "name": "python3"
  },
  "language_info": {
   "codemirror_mode": {
    "name": "ipython",
    "version": 3
   },
   "file_extension": ".py",
   "mimetype": "text/x-python",
   "name": "python",
   "nbconvert_exporter": "python",
   "pygments_lexer": "ipython3",
   "version": "3.13.7"
  }
 },
 "nbformat": 4,
 "nbformat_minor": 5
}
