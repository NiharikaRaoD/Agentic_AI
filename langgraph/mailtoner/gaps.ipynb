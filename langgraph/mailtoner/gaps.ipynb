{
 "cells": [
  {
   "cell_type": "code",
   "execution_count": 1,
   "id": "ade7c33e",
   "metadata": {},
   "outputs": [],
   "source": [
    "from dotenv import load_dotenv"
   ]
  },
  {
   "cell_type": "code",
   "execution_count": 3,
   "id": "b83ecbe0",
   "metadata": {},
   "outputs": [
    {
     "data": {
      "text/plain": [
       "True"
      ]
     },
     "execution_count": 3,
     "metadata": {},
     "output_type": "execute_result"
    }
   ],
   "source": [
    "load_dotenv()"
   ]
  },
  {
   "cell_type": "code",
   "execution_count": 4,
   "id": "09c344d0",
   "metadata": {},
   "outputs": [],
   "source": [
    "## Interacting with LLMs\n",
    "import os\n",
    "from langchain.chat_models import init_chat_model\n",
    "\n",
    "model_name = os.getenv('MODEL_NAME')\n",
    "model_provider = os.getenv('MODEL_PROVIDER')"
   ]
  },
  {
   "cell_type": "code",
   "execution_count": 5,
   "id": "2ace8282",
   "metadata": {},
   "outputs": [
    {
     "name": "stderr",
     "output_type": "stream",
     "text": [
      "c:\\tmp\\agentic_ai\\Agentic_AI\\langgraph\\mailtoner\\.venv\\Lib\\site-packages\\google\\cloud\\aiplatform\\models.py:52: FutureWarning: Support for google-cloud-storage < 3.0.0 will be removed in a future version of google-cloud-aiplatform. Please upgrade to google-cloud-storage >= 3.0.0.\n",
      "  from google.cloud.aiplatform.utils import gcs_utils\n"
     ]
    }
   ],
   "source": [
    "llm = init_chat_model(model=model_name, model_provider=model_provider)"
   ]
  },
  {
   "cell_type": "code",
   "execution_count": 8,
   "id": "2dd7cd24",
   "metadata": {},
   "outputs": [
    {
     "data": {
      "text/plain": [
       "AIMessage(content='The capital of France is **Paris**.', additional_kwargs={}, response_metadata={'is_blocked': False, 'safety_ratings': [], 'usage_metadata': {'prompt_token_count': 7, 'candidates_token_count': 8, 'total_token_count': 15, 'prompt_tokens_details': [{'modality': 1, 'token_count': 7}], 'candidates_tokens_details': [{'modality': 1, 'token_count': 8}], 'thoughts_token_count': 0, 'cached_content_token_count': 0, 'cache_tokens_details': []}, 'finish_reason': 'STOP', 'avg_logprobs': -0.0063854241743683815, 'model_provider': 'google_vertexai', 'model_name': 'gemini-2.5-flash-lite'}, id='lc_run--406be119-6adc-4156-b0d2-cca00c860808-0', usage_metadata={'input_tokens': 7, 'output_tokens': 8, 'total_tokens': 15, 'input_token_details': {'cache_read': 0}})"
      ]
     },
     "execution_count": 8,
     "metadata": {},
     "output_type": "execute_result"
    }
   ],
   "source": [
    "llm.invoke(\"What is the capital of France?\")"
   ]
  },
  {
   "cell_type": "code",
   "execution_count": 9,
   "id": "6c81982c",
   "metadata": {},
   "outputs": [],
   "source": [
    "## Messages\n",
    "from langchain_core.messages import HumanMessage, SystemMessage, AIMessage\n",
    "\n",
    "messages = [\n",
    "    SystemMessage(\"You are an expert in Gen AI\"),\n",
    "    HumanMessage(\"How to find complexity of a program?\")\n",
    "]"
   ]
  },
  {
   "cell_type": "code",
   "execution_count": 12,
   "id": "2a966ac3",
   "metadata": {},
   "outputs": [],
   "source": [
    "response = llm.invoke(messages)"
   ]
  },
  {
   "cell_type": "code",
   "execution_count": 13,
   "id": "db79600d",
   "metadata": {},
   "outputs": [
    {
     "data": {
      "text/plain": [
       "langchain_core.messages.ai.AIMessage"
      ]
     },
     "execution_count": 13,
     "metadata": {},
     "output_type": "execute_result"
    }
   ],
   "source": [
    "type(response)"
   ]
  },
  {
   "cell_type": "code",
   "execution_count": 14,
   "id": "985defee",
   "metadata": {},
   "outputs": [
    {
     "name": "stdout",
     "output_type": "stream",
     "text": [
      "Understanding the complexity of a program is crucial for optimizing its performance, predicting its resource usage, and making informed design choices. When we talk about program complexity, we're primarily referring to **time complexity** and **space complexity**.\n",
      "\n",
      "Here's a breakdown of how to find the complexity of a program:\n",
      "\n",
      "## 1. Understanding Big O Notation\n",
      "\n",
      "The standard way to express program complexity is using **Big O notation**. It describes the upper bound of the growth rate of an algorithm's resource usage (time or space) as the input size grows. It focuses on the dominant term and ignores constant factors and lower-order terms, as they become insignificant for large inputs.\n",
      "\n",
      "Here are some common Big O complexities, from best to worst:\n",
      "\n",
      "*   **O(1) - Constant Time:** The time/space taken does not depend on the input size.\n",
      "    *   Example: Accessing an element in an array by its index.\n",
      "*   **O(log n) - Logarithmic Time:** The time/space increases logarithmically with the input size. Typically found in algorithms that divide the problem in half repeatedly.\n",
      "    *   Example: Binary search.\n",
      "*   **O(n) - Linear Time:** The time/space grows linearly with the input size. The algorithm examines each element once.\n",
      "    *   Example: Iterating through a list, finding the maximum element in an unsorted array.\n",
      "*   **O(n log n) - Log-linear Time:** A combination of linear and logarithmic growth.\n",
      "    *   Example: Efficient sorting algorithms like Merge Sort, Quick Sort.\n",
      "*   **O(n²) - Quadratic Time:** The time/space grows with the square of the input size. Often involves nested loops where each loop iterates over the input.\n",
      "    *   Example: Bubble Sort, Insertion Sort (worst case), comparing every pair of elements in a list.\n",
      "*   **O(2ⁿ) - Exponential Time:** The time/space doubles with each addition to the input size. These algorithms are generally impractical for large inputs.\n",
      "    *   Example: Recursive calculation of Fibonacci numbers without memoization, the Traveling Salesperson Problem (naive solution).\n",
      "*   **O(n!) - Factorial Time:** The time/space grows extremely rapidly.\n",
      "    *   Example: Generating all permutations of a set.\n",
      "\n",
      "## 2. Analyzing Time Complexity\n",
      "\n",
      "Time complexity measures how the execution time of an algorithm grows with the input size. To find it, you need to:\n",
      "\n",
      "**a) Identify the Input Size:**\n",
      "*   What is the variable that determines how much work the program does? This is often the number of elements in a list, the size of a matrix, or the number of nodes in a graph. Let's call this `n`.\n",
      "\n",
      "**b) Count Operations:**\n",
      "*   Go through your code line by line and identify the operations that contribute to the execution time.\n",
      "*   **Basic operations** (arithmetic, comparisons, assignments) usually take constant time, O(1).\n",
      "*   **Loops:** The complexity of a loop is the complexity of the operations inside the loop multiplied by the number of iterations.\n",
      "    *   A single loop iterating `n` times with O(1) operations inside is O(n).\n",
      "    *   Nested loops are multiplied: a loop inside another loop, both iterating `n` times, results in O(n * n) = O(n²).\n",
      "*   **Conditional statements (if/else):** The complexity is determined by the most expensive branch. If one branch is O(n) and another is O(1), the overall complexity is O(n).\n",
      "*   **Function calls:** The complexity of a function call is the complexity of the function itself. If a function with O(n) complexity is called inside a loop that runs `n` times, the total complexity becomes O(n * n) = O(n²).\n",
      "*   **Recursive functions:** Analyze the recursive calls. If a function calls itself `k` times for an input of size `n`, and each call processes a subproblem of size `n/m`, you can use recurrence relations to determine the complexity.\n",
      "*   **Method chaining:** The complexity is the sum of the complexities of each method in the chain.\n",
      "\n",
      "**c) Summing Up the Dominant Terms:**\n",
      "*   Add up the complexities of all the different parts of your code.\n",
      "*   **Focus on the highest order term.** For example, if you have O(n) and O(n²), the overall complexity is O(n²).\n",
      "*   **Ignore constant factors.** O(2n) is the same as O(n). O(5n²) is the same as O(n²).\n",
      "*   **Ignore lower-order terms.** O(n² + n) simplifies to O(n²).\n",
      "\n",
      "**Example (Time Complexity):**\n",
      "\n",
      "```python\n",
      "def find_max(arr):\n",
      "  max_val = arr[0] # O(1)\n",
      "  for i in range(1, len(arr)): # Loop runs n-1 times\n",
      "    if arr[i] > max_val: # O(1) comparison\n",
      "      max_val = arr[i] # O(1) assignment\n",
      "  return max_val # O(1)\n",
      "\n",
      "# Input size n = len(arr)\n",
      "# Operations: O(1) + (n-1) * (O(1) + O(1)) + O(1)\n",
      "# Simplifies to: O(1) + (n-1) * O(1) + O(1)\n",
      "# Simplifies to: O(1) + O(n) + O(1)\n",
      "# Dominant term is O(n).\n",
      "# Therefore, time complexity is O(n).\n",
      "```\n",
      "\n",
      "## 3. Analyzing Space Complexity\n",
      "\n",
      "Space complexity measures how the amount of memory used by an algorithm grows with the input size. To find it, you need to:\n",
      "\n",
      "**a) Identify the Input Size:**\n",
      "*   Same as for time complexity.\n",
      "\n",
      "**b) Quantify Memory Usage:**\n",
      "*   **Variables:** Local variables, parameters, and their sizes contribute to space complexity.\n",
      "*   **Data structures:** The memory occupied by arrays, lists, dictionaries, etc., is considered.\n",
      "    *   An array of size `n` typically takes O(n) space.\n",
      "    *   A 2D array of `n x m` takes O(n*m) space.\n",
      "*   **Function call stack (for recursion):** Deep recursion can consume significant stack space. If a recursive function has a depth of `d`, it can contribute O(d) space complexity.\n",
      "*   **Auxiliary space:** This refers to the extra space used by the algorithm, excluding the input itself. Often, we are interested in auxiliary space complexity.\n",
      "\n",
      "**c) Sum Up and Simplify:**\n",
      "*   Similar to time complexity, sum up the memory usage of all components.\n",
      "*   Focus on the dominant term and ignore constants and lower-order terms.\n",
      "\n",
      "**Example (Space Complexity):**\n",
      "\n",
      "```python\n",
      "def sum_array(arr):\n",
      "  total = 0 # O(1) space for 'total'\n",
      "  for num in arr: # Loop doesn't create new significant memory\n",
      "    total += num # O(1) space for 'num'\n",
      "  return total # O(1) space for return value\n",
      "\n",
      "# Input size n = len(arr)\n",
      "# Space used: O(1) for 'total' + O(1) for 'num' (reused) + O(1) for return value\n",
      "# Total space complexity is O(1).\n",
      "\n",
      "def create_pairs(arr):\n",
      "  pairs = [] # O(n) space for the 'pairs' list\n",
      "  for i in range(len(arr)):\n",
      "    for j in range(len(arr)):\n",
      "      pairs.append((arr[i], arr[j])) # Appending to 'pairs'\n",
      "  return pairs\n",
      "\n",
      "# Input size n = len(arr)\n",
      "# 'pairs' list will eventually hold n*n tuples.\n",
      "# Space used by 'pairs': O(n*n) = O(n^2)\n",
      "# Space used by loop variables i, j: O(1)\n",
      "# Total space complexity is O(n^2).\n",
      "```\n",
      "\n",
      "## 4. Practical Techniques for Finding Complexity\n",
      "\n",
      "*   **Manual Analysis:** This is the most fundamental way. Go through your code and apply the steps outlined above.\n",
      "*   **Profiling Tools:** Many programming languages have profiling tools (e.g., `cProfile` in Python, `gprof` in C/C++, Visual Studio Performance Profiler) that can show you where your program spends most of its time. While not directly giving Big O, they highlight performance bottlenecks that are often related to higher complexities.\n",
      "*   **Testing with Varying Input Sizes:** Run your program with inputs of different sizes (e.g., 10, 100, 1000, 10000) and measure the execution time or memory usage. Plotting these results can help you visually infer the growth rate and thus the Big O complexity.\n",
      "*   **Pseudocode Analysis:** Before writing actual code, analyze the complexity of your algorithm's pseudocode. This helps in making early design decisions.\n",
      "*   **Understanding Data Structures and Algorithms:** Familiarize yourself with the complexities of common data structures (arrays, linked lists, hash tables, trees) and algorithms (sorting, searching). This knowledge is a shortcut to analyzing your code.\n",
      "\n",
      "## 5. Important Considerations\n",
      "\n",
      "*   **Best, Average, and Worst Case:** Algorithms can have different complexities depending on the input. It's important to consider all three:\n",
      "    *   **Best Case:** The input that leads to the fastest execution.\n",
      "    *   **Average Case:** The expected execution time over all possible inputs.\n",
      "    *   **Worst Case:** The input that leads to the slowest execution. Big O notation usually refers to the worst-case complexity unless specified otherwise.\n",
      "*   **Amortized Analysis:** For certain data structures (like dynamic arrays), operations might have a high cost occasionally but a low cost on average over a sequence of operations. Amortized analysis accounts for this.\n",
      "*   **Complexity of External Libraries:** If you're using a library function, you need to know its complexity. Refer to the library's documentation.\n",
      "*   **Real-world vs. Theoretical Complexity:** Big O is a theoretical measure. Actual execution time can be influenced by hardware, caching, operating system overhead, and compiler optimizations. However, Big O provides a powerful way to compare algorithms fundamentally.\n",
      "\n",
      "By systematically analyzing your code and understanding Big O notation, you can effectively determine the time and space complexity of your programs. This knowledge is a cornerstone of efficient software development.\n"
     ]
    }
   ],
   "source": [
    "print(response.content)"
   ]
  },
  {
   "cell_type": "code",
   "execution_count": 15,
   "id": "0f8f67d8",
   "metadata": {},
   "outputs": [
    {
     "name": "stdout",
     "output_type": "stream",
     "text": [
      "==================================\u001b[1m Ai Message \u001b[0m==================================\n",
      "\n",
      "Understanding the complexity of a program is crucial for optimizing its performance, predicting its resource usage, and making informed design choices. When we talk about program complexity, we're primarily referring to **time complexity** and **space complexity**.\n",
      "\n",
      "Here's a breakdown of how to find the complexity of a program:\n",
      "\n",
      "## 1. Understanding Big O Notation\n",
      "\n",
      "The standard way to express program complexity is using **Big O notation**. It describes the upper bound of the growth rate of an algorithm's resource usage (time or space) as the input size grows. It focuses on the dominant term and ignores constant factors and lower-order terms, as they become insignificant for large inputs.\n",
      "\n",
      "Here are some common Big O complexities, from best to worst:\n",
      "\n",
      "*   **O(1) - Constant Time:** The time/space taken does not depend on the input size.\n",
      "    *   Example: Accessing an element in an array by its index.\n",
      "*   **O(log n) - Logarithmic Time:** The time/space increases logarithmically with the input size. Typically found in algorithms that divide the problem in half repeatedly.\n",
      "    *   Example: Binary search.\n",
      "*   **O(n) - Linear Time:** The time/space grows linearly with the input size. The algorithm examines each element once.\n",
      "    *   Example: Iterating through a list, finding the maximum element in an unsorted array.\n",
      "*   **O(n log n) - Log-linear Time:** A combination of linear and logarithmic growth.\n",
      "    *   Example: Efficient sorting algorithms like Merge Sort, Quick Sort.\n",
      "*   **O(n²) - Quadratic Time:** The time/space grows with the square of the input size. Often involves nested loops where each loop iterates over the input.\n",
      "    *   Example: Bubble Sort, Insertion Sort (worst case), comparing every pair of elements in a list.\n",
      "*   **O(2ⁿ) - Exponential Time:** The time/space doubles with each addition to the input size. These algorithms are generally impractical for large inputs.\n",
      "    *   Example: Recursive calculation of Fibonacci numbers without memoization, the Traveling Salesperson Problem (naive solution).\n",
      "*   **O(n!) - Factorial Time:** The time/space grows extremely rapidly.\n",
      "    *   Example: Generating all permutations of a set.\n",
      "\n",
      "## 2. Analyzing Time Complexity\n",
      "\n",
      "Time complexity measures how the execution time of an algorithm grows with the input size. To find it, you need to:\n",
      "\n",
      "**a) Identify the Input Size:**\n",
      "*   What is the variable that determines how much work the program does? This is often the number of elements in a list, the size of a matrix, or the number of nodes in a graph. Let's call this `n`.\n",
      "\n",
      "**b) Count Operations:**\n",
      "*   Go through your code line by line and identify the operations that contribute to the execution time.\n",
      "*   **Basic operations** (arithmetic, comparisons, assignments) usually take constant time, O(1).\n",
      "*   **Loops:** The complexity of a loop is the complexity of the operations inside the loop multiplied by the number of iterations.\n",
      "    *   A single loop iterating `n` times with O(1) operations inside is O(n).\n",
      "    *   Nested loops are multiplied: a loop inside another loop, both iterating `n` times, results in O(n * n) = O(n²).\n",
      "*   **Conditional statements (if/else):** The complexity is determined by the most expensive branch. If one branch is O(n) and another is O(1), the overall complexity is O(n).\n",
      "*   **Function calls:** The complexity of a function call is the complexity of the function itself. If a function with O(n) complexity is called inside a loop that runs `n` times, the total complexity becomes O(n * n) = O(n²).\n",
      "*   **Recursive functions:** Analyze the recursive calls. If a function calls itself `k` times for an input of size `n`, and each call processes a subproblem of size `n/m`, you can use recurrence relations to determine the complexity.\n",
      "*   **Method chaining:** The complexity is the sum of the complexities of each method in the chain.\n",
      "\n",
      "**c) Summing Up the Dominant Terms:**\n",
      "*   Add up the complexities of all the different parts of your code.\n",
      "*   **Focus on the highest order term.** For example, if you have O(n) and O(n²), the overall complexity is O(n²).\n",
      "*   **Ignore constant factors.** O(2n) is the same as O(n). O(5n²) is the same as O(n²).\n",
      "*   **Ignore lower-order terms.** O(n² + n) simplifies to O(n²).\n",
      "\n",
      "**Example (Time Complexity):**\n",
      "\n",
      "```python\n",
      "def find_max(arr):\n",
      "  max_val = arr[0] # O(1)\n",
      "  for i in range(1, len(arr)): # Loop runs n-1 times\n",
      "    if arr[i] > max_val: # O(1) comparison\n",
      "      max_val = arr[i] # O(1) assignment\n",
      "  return max_val # O(1)\n",
      "\n",
      "# Input size n = len(arr)\n",
      "# Operations: O(1) + (n-1) * (O(1) + O(1)) + O(1)\n",
      "# Simplifies to: O(1) + (n-1) * O(1) + O(1)\n",
      "# Simplifies to: O(1) + O(n) + O(1)\n",
      "# Dominant term is O(n).\n",
      "# Therefore, time complexity is O(n).\n",
      "```\n",
      "\n",
      "## 3. Analyzing Space Complexity\n",
      "\n",
      "Space complexity measures how the amount of memory used by an algorithm grows with the input size. To find it, you need to:\n",
      "\n",
      "**a) Identify the Input Size:**\n",
      "*   Same as for time complexity.\n",
      "\n",
      "**b) Quantify Memory Usage:**\n",
      "*   **Variables:** Local variables, parameters, and their sizes contribute to space complexity.\n",
      "*   **Data structures:** The memory occupied by arrays, lists, dictionaries, etc., is considered.\n",
      "    *   An array of size `n` typically takes O(n) space.\n",
      "    *   A 2D array of `n x m` takes O(n*m) space.\n",
      "*   **Function call stack (for recursion):** Deep recursion can consume significant stack space. If a recursive function has a depth of `d`, it can contribute O(d) space complexity.\n",
      "*   **Auxiliary space:** This refers to the extra space used by the algorithm, excluding the input itself. Often, we are interested in auxiliary space complexity.\n",
      "\n",
      "**c) Sum Up and Simplify:**\n",
      "*   Similar to time complexity, sum up the memory usage of all components.\n",
      "*   Focus on the dominant term and ignore constants and lower-order terms.\n",
      "\n",
      "**Example (Space Complexity):**\n",
      "\n",
      "```python\n",
      "def sum_array(arr):\n",
      "  total = 0 # O(1) space for 'total'\n",
      "  for num in arr: # Loop doesn't create new significant memory\n",
      "    total += num # O(1) space for 'num'\n",
      "  return total # O(1) space for return value\n",
      "\n",
      "# Input size n = len(arr)\n",
      "# Space used: O(1) for 'total' + O(1) for 'num' (reused) + O(1) for return value\n",
      "# Total space complexity is O(1).\n",
      "\n",
      "def create_pairs(arr):\n",
      "  pairs = [] # O(n) space for the 'pairs' list\n",
      "  for i in range(len(arr)):\n",
      "    for j in range(len(arr)):\n",
      "      pairs.append((arr[i], arr[j])) # Appending to 'pairs'\n",
      "  return pairs\n",
      "\n",
      "# Input size n = len(arr)\n",
      "# 'pairs' list will eventually hold n*n tuples.\n",
      "# Space used by 'pairs': O(n*n) = O(n^2)\n",
      "# Space used by loop variables i, j: O(1)\n",
      "# Total space complexity is O(n^2).\n",
      "```\n",
      "\n",
      "## 4. Practical Techniques for Finding Complexity\n",
      "\n",
      "*   **Manual Analysis:** This is the most fundamental way. Go through your code and apply the steps outlined above.\n",
      "*   **Profiling Tools:** Many programming languages have profiling tools (e.g., `cProfile` in Python, `gprof` in C/C++, Visual Studio Performance Profiler) that can show you where your program spends most of its time. While not directly giving Big O, they highlight performance bottlenecks that are often related to higher complexities.\n",
      "*   **Testing with Varying Input Sizes:** Run your program with inputs of different sizes (e.g., 10, 100, 1000, 10000) and measure the execution time or memory usage. Plotting these results can help you visually infer the growth rate and thus the Big O complexity.\n",
      "*   **Pseudocode Analysis:** Before writing actual code, analyze the complexity of your algorithm's pseudocode. This helps in making early design decisions.\n",
      "*   **Understanding Data Structures and Algorithms:** Familiarize yourself with the complexities of common data structures (arrays, linked lists, hash tables, trees) and algorithms (sorting, searching). This knowledge is a shortcut to analyzing your code.\n",
      "\n",
      "## 5. Important Considerations\n",
      "\n",
      "*   **Best, Average, and Worst Case:** Algorithms can have different complexities depending on the input. It's important to consider all three:\n",
      "    *   **Best Case:** The input that leads to the fastest execution.\n",
      "    *   **Average Case:** The expected execution time over all possible inputs.\n",
      "    *   **Worst Case:** The input that leads to the slowest execution. Big O notation usually refers to the worst-case complexity unless specified otherwise.\n",
      "*   **Amortized Analysis:** For certain data structures (like dynamic arrays), operations might have a high cost occasionally but a low cost on average over a sequence of operations. Amortized analysis accounts for this.\n",
      "*   **Complexity of External Libraries:** If you're using a library function, you need to know its complexity. Refer to the library's documentation.\n",
      "*   **Real-world vs. Theoretical Complexity:** Big O is a theoretical measure. Actual execution time can be influenced by hardware, caching, operating system overhead, and compiler optimizations. However, Big O provides a powerful way to compare algorithms fundamentally.\n",
      "\n",
      "By systematically analyzing your code and understanding Big O notation, you can effectively determine the time and space complexity of your programs. This knowledge is a cornerstone of efficient software development.\n"
     ]
    }
   ],
   "source": [
    "response.pretty_print()"
   ]
  },
  {
   "cell_type": "code",
   "execution_count": 16,
   "id": "1a12135e",
   "metadata": {},
   "outputs": [],
   "source": [
    "from langchain_core.prompts import PromptTemplate, ChatPromptTemplate"
   ]
  },
  {
   "cell_type": "code",
   "execution_count": 18,
   "id": "796d0eef",
   "metadata": {},
   "outputs": [],
   "source": [
    "prompt = PromptTemplate.from_template(\"You are an expert in {area}. Explain in three sentences what is {topic}\")"
   ]
  },
  {
   "cell_type": "code",
   "execution_count": 20,
   "id": "74e725eb",
   "metadata": {},
   "outputs": [
    {
     "data": {
      "text/plain": [
       "StringPromptValue(text='You are an expert in Physics. Explain in three sentences what is Inertia')"
      ]
     },
     "execution_count": 20,
     "metadata": {},
     "output_type": "execute_result"
    }
   ],
   "source": [
    "prompt.invoke({'area':'Physics', 'topic': 'Inertia'})"
   ]
  },
  {
   "cell_type": "code",
   "execution_count": 21,
   "id": "6e0cb733",
   "metadata": {},
   "outputs": [],
   "source": [
    "chain = prompt | llm"
   ]
  },
  {
   "cell_type": "code",
   "execution_count": 22,
   "id": "26015506",
   "metadata": {},
   "outputs": [],
   "source": [
    "response = chain.invoke({'area':'Physics', 'topic': 'Inertia'})"
   ]
  },
  {
   "cell_type": "code",
   "execution_count": 25,
   "id": "302ee166",
   "metadata": {},
   "outputs": [
    {
     "name": "stdout",
     "output_type": "stream",
     "text": [
      "==================================\u001b[1m Ai Message \u001b[0m==================================\n",
      "\n",
      "Inertia is the inherent property of an object to resist any change in its state of motion. This means an object at rest will stay at rest, and an object in motion will continue to move with constant velocity, unless acted upon by an external force. The greater an object's mass, the greater its inertia, making it harder to start moving or change its current motion.\n"
     ]
    }
   ],
   "source": [
    "response.pretty_print()"
   ]
  },
  {
   "cell_type": "code",
   "execution_count": 38,
   "id": "77f72fa4",
   "metadata": {},
   "outputs": [],
   "source": [
    "prompt = ChatPromptTemplate([\n",
    "    (\"system\", \"You are an expert in {area}. Explain the question in simple English\"),\n",
    "    (\"user\", \"What is {topic}?\")\n",
    "])"
   ]
  },
  {
   "cell_type": "code",
   "execution_count": 39,
   "id": "f930dbcd",
   "metadata": {},
   "outputs": [],
   "source": [
    "chain = prompt | llm"
   ]
  },
  {
   "cell_type": "code",
   "execution_count": 40,
   "id": "ccd557cb",
   "metadata": {},
   "outputs": [],
   "source": [
    "response = chain.invoke({'area': 'Gen AI', 'topic': 'Agentic AI'})"
   ]
  },
  {
   "cell_type": "code",
   "execution_count": 41,
   "id": "0e4cdb8b",
   "metadata": {},
   "outputs": [
    {
     "name": "stdout",
     "output_type": "stream",
     "text": [
      "==================================\u001b[1m Ai Message \u001b[0m==================================\n",
      "\n",
      "Imagine you have a super smart assistant that can not only do what you ask, but can also **think for itself** to figure out the best way to get things done. That's basically what **Agentic AI** is all about.\n",
      "\n",
      "Here's a breakdown in simple terms:\n",
      "\n",
      "*   **Think of it like a \"smart agent\":** Instead of just following a strict set of instructions, an agentic AI can:\n",
      "    *   **Understand your goal:** You tell it what you want to achieve, not necessarily every single step.\n",
      "    *   **Plan:** It figures out a sequence of actions needed to reach that goal.\n",
      "    *   **Execute:** It takes those actions, using its knowledge and tools.\n",
      "    *   **Reason and Adapt:** If something goes wrong or a better way appears, it can adjust its plan and try again.\n",
      "    *   **Learn (sometimes):** It can get better at its tasks over time.\n",
      "\n",
      "*   **It's more than just a chatbot:** While a chatbot might answer your questions, an agentic AI can *act* on those answers. For example, you could ask a chatbot to find a recipe. You could ask an agentic AI to find a recipe, *and then* order the ingredients for you.\n",
      "\n",
      "*   **It has \"agency\":** This is the key word. \"Agency\" means having the power or ability to act independently. So, agentic AI has the ability to act on its own to achieve its objectives.\n",
      "\n",
      "**Think of these examples:**\n",
      "\n",
      "*   **A personal assistant:** You tell it, \"Book me a flight to Paris next week, and find a good hotel near the Eiffel Tower.\" The agentic AI would understand your goal, search for flights, compare prices, look for hotels, check reviews, and then present you with options, or even make the booking itself.\n",
      "*   **A research assistant:** You ask it to \"Research the latest advancements in renewable energy and summarize the key findings.\" It would go out, find relevant articles, read them, identify the main points, and then give you a summary.\n",
      "*   **A coding assistant:** You tell it, \"Write a Python script to analyze this dataset and create a visualization of the top 5 trends.\" It would write the code, run it, and generate the visualization.\n",
      "\n",
      "**In short, Agentic AI is AI that can:**\n",
      "\n",
      "*   **Understand complex goals.**\n",
      "*   **Make plans to achieve those goals.**\n",
      "*   **Take actions in the real world or digital world to execute those plans.**\n",
      "*   **Reason and adapt as needed.**\n",
      "\n",
      "It's like giving AI a bit more freedom and intelligence to solve problems and accomplish tasks with less direct human supervision.\n"
     ]
    }
   ],
   "source": [
    "response.pretty_print()"
   ]
  },
  {
   "cell_type": "code",
   "execution_count": 42,
   "id": "6fefc516",
   "metadata": {},
   "outputs": [],
   "source": [
    "response = chain.invoke({'area': 'Gen AI', 'topic': 'RAG'})"
   ]
  },
  {
   "cell_type": "code",
   "execution_count": 43,
   "id": "f7087cbc",
   "metadata": {},
   "outputs": [
    {
     "name": "stdout",
     "output_type": "stream",
     "text": [
      "==================================\u001b[1m Ai Message \u001b[0m==================================\n",
      "\n",
      "Imagine you're trying to answer a question, but you don't have all the information in your head. You know where to look for it, though – maybe in a specific book or a set of documents.\n",
      "\n",
      "**RAG (Retrieval-Augmented Generation)** is like that for AI.\n",
      "\n",
      "Here's a breakdown in simple terms:\n",
      "\n",
      "*   **The \"R\" (Retrieval):** This is like the AI going to a library or a specific folder of documents to **find relevant information** that might help answer your question. It's searching through a collection of data to pull out the most useful pieces.\n",
      "*   **The \"A\" (Augmented):** Once the AI finds that information, it **\"augments\"** or adds that retrieved information to its own knowledge. It's like you reading a paragraph from a book to better understand a topic before you try to explain it.\n",
      "*   **The \"G\" (Generation):** Now, with the extra information it just found, the AI can **generate a more informed and accurate answer** to your question. It uses both its general knowledge and the specific facts it retrieved.\n",
      "\n",
      "**Think of it this way:**\n",
      "\n",
      "Imagine you ask a chatbot a question about a very specific, recent event.\n",
      "\n",
      "*   **Without RAG:** The chatbot might give you a generic answer based on what it was trained on, which might be outdated.\n",
      "*   **With RAG:** The chatbot would first **search the internet** (or a specific database) for information about that event. Then, it would **use that new information** along with its existing knowledge to **create a much more precise and up-to-date answer** for you.\n",
      "\n",
      "**In short, RAG helps AI give better answers by:**\n",
      "\n",
      "1.  **Looking up information** when it needs it.\n",
      "2.  **Using that information** to make its answer smarter.\n",
      "\n",
      "This is especially useful for AI when dealing with information that changes frequently, is very specialized, or wasn't part of its original training data.\n"
     ]
    }
   ],
   "source": [
    "response.pretty_print()"
   ]
  },
  {
   "cell_type": "code",
   "execution_count": null,
   "id": "419c6063",
   "metadata": {},
   "outputs": [],
   "source": []
  }
 ],
 "metadata": {
  "kernelspec": {
   "display_name": "mailtoner",
   "language": "python",
   "name": "python3"
  },
  "language_info": {
   "codemirror_mode": {
    "name": "ipython",
    "version": 3
   },
   "file_extension": ".py",
   "mimetype": "text/x-python",
   "name": "python",
   "nbconvert_exporter": "python",
   "pygments_lexer": "ipython3",
   "version": "3.13.7"
  }
 },
 "nbformat": 4,
 "nbformat_minor": 5
}
